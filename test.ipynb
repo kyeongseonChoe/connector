{
 "cells": [
  {
   "cell_type": "code",
   "execution_count": 10,
   "metadata": {},
   "outputs": [],
   "source": [
    "from kafka import KafkaProducer\n",
    "from json import dumps\n",
    "\n",
    "\n",
    "producer = KafkaProducer(\n",
    "     #acks=0, \n",
    "     #compression_type='gzip',\n",
    "     bootstrap_servers=['52.78.190.155:31090'],\n",
    "     value_serializer=lambda x: dumps(x).encode('utf-8')\n",
    "     )\n",
    "\n",
    "data = {\n",
    "     \"name\": \"Giuseppe Rossi\",\n",
    "     \"hotel\": \"Luxury Hotel\",\n",
    "     \"dateFrom\": \"25-06-2021\",\n",
    "     \"dateTo\": \"07-07-2021\" \n",
    "     }\n",
    "\n",
    "producer.send('2u.driver.app.location', value=data)\n",
    "producer.flush()\n"
   ]
  },
  {
   "cell_type": "code",
   "execution_count": null,
   "metadata": {},
   "outputs": [],
   "source": [
    "import pika\n",
    "\n",
    "class Consumer:\n",
    "    def __init__(self):\n",
    "        self.__url = '52.78.190.155'\n",
    "        self.__port = 31538\n",
    "        self.__vhost = '/'\n",
    "        self.__cred = pika.PlainCredentials(username='test', password='1234'),\n",
    "        self.__queue='QUEUE 1'\n",
    "        return\n",
    "\n",
    "    def on_message(channel, method_frame, header_frame, body):\n",
    "        print('Received %s' % body)\n",
    "        return\n",
    "\n",
    "    def main(self):\n",
    "        conn = pika.BlockingConnection(pika.ConnectionParameters(host=self.__url, port=self.__port, virtual_host=self.__vhost, credentials=pika.PlainCredentials(username='test', password='1234')))\n",
    "        chan = conn.channel()\n",
    "        chan.basic_consume(\n",
    "            queue = self.__queue, \n",
    "            on_message_callback = Consumer.on_message,\n",
    "            auto_ack = True\n",
    "        )\n",
    "        print('Consumer is starting...')\n",
    "        chan.start_consuming()\n",
    "        return\n",
    "\n",
    "consumer = Consumer()\n",
    "consumer.main() "
   ]
  },
  {
   "cell_type": "code",
   "execution_count": null,
   "metadata": {},
   "outputs": [],
   "source": [
    "import Kafka.configuration.config as kafka\n",
    "import rabbitmq.configuration.config as config\n",
    "from kafka import KafkaProducer\n",
    "from json import dumps\n",
    "\n",
    "class Consumer:\n",
    "    def __init__(self):\n",
    "        self.__url= '52.78.190.155'\n",
    "        self.__port = 31538\n",
    "        self.__vhost = '/'\n",
    "        self.__cred = pika.PlainCredentials(username='test', password='1234')\n",
    "        self.__queue = 'QUEUE 1';\n",
    "        return\n",
    "        \n",
    "    def on_message(channel, method_frame, header_frame, body):\n",
    "        print('Received 1 %s' % body)\n",
    "        producer = KafkaProducer(\n",
    "            #acks=0, \n",
    "            #compression_type='gzip',\n",
    "            bootstrap_servers=['52.78.190.155:31090'],\n",
    "            #value_serializer=lambda x: dumps(x).encode('utf-8')\n",
    "        )\n",
    "\n",
    "        producer.send(kafka.TOPIC, body)\n",
    "        producer.flush()\n",
    "        return\n",
    "\n",
    "    def main(self):\n",
    "        conn = conn = pika.BlockingConnection(pika.ConnectionParameters(host=self.__url, port=self.__port, virtual_host=self.__vhost, credentials=self.__cred))\n",
    "        chan = conn.channel()\n",
    "        chan.basic_consume(\n",
    "            queue =config.queue, \n",
    "            on_message_callback = Consumer.on_message,\n",
    "            auto_ack = True\n",
    "        )\n",
    "        print('Consumer is starting...')\n",
    "        chan.start_consuming()\n",
    "        return\n",
    "\n",
    "consumer = Consumer()\n",
    "consumer.main()\n",
    "\n",
    "\n"
   ]
  },
  {
   "cell_type": "code",
   "execution_count": 52,
   "metadata": {},
   "outputs": [
    {
     "name": "stdout",
     "output_type": "stream",
     "text": [
      "I'm working...\n",
      "I'm working...\n",
      "2022-09-13 11:06:59.752666\n",
      "2022-09-13 11:06:59.752675\n",
      "I'm working...\n",
      "I'm working...\n",
      "2022-09-13 11:06:59.752688\n",
      "I'm working...\n",
      "I'm working...\n",
      "I'm working...\n",
      "I'm working...\n",
      "I'm working...\n",
      "I'm working...\n",
      "I'm working...\n",
      "I'm working...\n"
     ]
    },
    {
     "ename": "ValueError",
     "evalue": "too many values to unpack (expected 2)",
     "output_type": "error",
     "traceback": [
      "\u001b[0;31m---------------------------------------------------------------------------\u001b[0m",
      "\u001b[0;31mValueError\u001b[0m                                Traceback (most recent call last)",
      "Cell \u001b[0;32mIn [52], line 18\u001b[0m\n\u001b[1;32m     15\u001b[0m schedule\u001b[38;5;241m.\u001b[39mevery(\u001b[38;5;241m5\u001b[39m)\u001b[38;5;241m.\u001b[39mseconds\u001b[38;5;241m.\u001b[39mdo(job)\n\u001b[1;32m     17\u001b[0m \u001b[38;5;28;01mwhile\u001b[39;00m \u001b[38;5;28;01mTrue\u001b[39;00m:\n\u001b[0;32m---> 18\u001b[0m     \u001b[43mschedule\u001b[49m\u001b[38;5;241;43m.\u001b[39;49m\u001b[43mrun_pending\u001b[49m\u001b[43m(\u001b[49m\u001b[43m)\u001b[49m\n\u001b[1;32m     19\u001b[0m     time\u001b[38;5;241m.\u001b[39msleep(\u001b[38;5;241m1\u001b[39m)\n",
      "File \u001b[0;32m~/Documents/connector/connector/lib/python3.9/site-packages/schedule/__init__.py:780\u001b[0m, in \u001b[0;36mrun_pending\u001b[0;34m()\u001b[0m\n\u001b[1;32m    776\u001b[0m \u001b[39mdef\u001b[39;00m \u001b[39mrun_pending\u001b[39m() \u001b[39m-\u001b[39m\u001b[39m>\u001b[39m \u001b[39mNone\u001b[39;00m:\n\u001b[1;32m    777\u001b[0m     \u001b[39m\"\"\"Calls :meth:`run_pending <Scheduler.run_pending>` on the\u001b[39;00m\n\u001b[1;32m    778\u001b[0m \u001b[39m    :data:`default scheduler instance <default_scheduler>`.\u001b[39;00m\n\u001b[1;32m    779\u001b[0m \u001b[39m    \"\"\"\u001b[39;00m\n\u001b[0;32m--> 780\u001b[0m     default_scheduler\u001b[39m.\u001b[39;49mrun_pending()\n",
      "File \u001b[0;32m~/Documents/connector/connector/lib/python3.9/site-packages/schedule/__init__.py:100\u001b[0m, in \u001b[0;36mScheduler.run_pending\u001b[0;34m(self)\u001b[0m\n\u001b[1;32m     98\u001b[0m runnable_jobs \u001b[39m=\u001b[39m (job \u001b[39mfor\u001b[39;00m job \u001b[39min\u001b[39;00m \u001b[39mself\u001b[39m\u001b[39m.\u001b[39mjobs \u001b[39mif\u001b[39;00m job\u001b[39m.\u001b[39mshould_run)\n\u001b[1;32m     99\u001b[0m \u001b[39mfor\u001b[39;00m job \u001b[39min\u001b[39;00m \u001b[39msorted\u001b[39m(runnable_jobs):\n\u001b[0;32m--> 100\u001b[0m     \u001b[39mself\u001b[39;49m\u001b[39m.\u001b[39;49m_run_job(job)\n",
      "File \u001b[0;32m~/Documents/connector/connector/lib/python3.9/site-packages/schedule/__init__.py:172\u001b[0m, in \u001b[0;36mScheduler._run_job\u001b[0;34m(self, job)\u001b[0m\n\u001b[1;32m    171\u001b[0m \u001b[39mdef\u001b[39;00m \u001b[39m_run_job\u001b[39m(\u001b[39mself\u001b[39m, job: \u001b[39m\"\u001b[39m\u001b[39mJob\u001b[39m\u001b[39m\"\u001b[39m) \u001b[39m-\u001b[39m\u001b[39m>\u001b[39m \u001b[39mNone\u001b[39;00m:\n\u001b[0;32m--> 172\u001b[0m     ret \u001b[39m=\u001b[39m job\u001b[39m.\u001b[39;49mrun()\n\u001b[1;32m    173\u001b[0m     \u001b[39mif\u001b[39;00m \u001b[39misinstance\u001b[39m(ret, CancelJob) \u001b[39mor\u001b[39;00m ret \u001b[39mis\u001b[39;00m CancelJob:\n\u001b[1;32m    174\u001b[0m         \u001b[39mself\u001b[39m\u001b[39m.\u001b[39mcancel_job(job)\n",
      "File \u001b[0;32m~/Documents/connector/connector/lib/python3.9/site-packages/schedule/__init__.py:661\u001b[0m, in \u001b[0;36mJob.run\u001b[0;34m(self)\u001b[0m\n\u001b[1;32m    658\u001b[0m     \u001b[39mreturn\u001b[39;00m CancelJob\n\u001b[1;32m    660\u001b[0m logger\u001b[39m.\u001b[39mdebug(\u001b[39m\"\u001b[39m\u001b[39mRunning job \u001b[39m\u001b[39m%s\u001b[39;00m\u001b[39m\"\u001b[39m, \u001b[39mself\u001b[39m)\n\u001b[0;32m--> 661\u001b[0m ret \u001b[39m=\u001b[39m \u001b[39mself\u001b[39;49m\u001b[39m.\u001b[39;49mjob_func()\n\u001b[1;32m    662\u001b[0m \u001b[39mself\u001b[39m\u001b[39m.\u001b[39mlast_run \u001b[39m=\u001b[39m datetime\u001b[39m.\u001b[39mdatetime\u001b[39m.\u001b[39mnow()\n\u001b[1;32m    663\u001b[0m \u001b[39mself\u001b[39m\u001b[39m.\u001b[39m_schedule_next_run()\n",
      "Cell \u001b[0;32mIn [52], line 10\u001b[0m, in \u001b[0;36mjob\u001b[0;34m()\u001b[0m\n\u001b[1;32m      8\u001b[0m auth\u001b[38;5;241m=\u001b[39m(\u001b[38;5;124m'\u001b[39m\u001b[38;5;124mtest\u001b[39m\u001b[38;5;124m'\u001b[39m, \u001b[38;5;124m'\u001b[39m\u001b[38;5;124m1234\u001b[39m\u001b[38;5;124m'\u001b[39m)\n\u001b[1;32m      9\u001b[0m headers \u001b[38;5;241m=\u001b[39m {}\n\u001b[0;32m---> 10\u001b[0m items \u001b[38;5;241m=\u001b[39m \u001b[43mrequests\u001b[49m\u001b[38;5;241;43m.\u001b[39;49m\u001b[43mget\u001b[49m\u001b[43m(\u001b[49m\u001b[38;5;124;43m\"\u001b[39;49m\u001b[38;5;124;43mhttp://52.78.190.155:30322/api/queues\u001b[39;49m\u001b[38;5;124;43m\"\u001b[39;49m\u001b[43m,\u001b[49m\u001b[43mauth\u001b[49m\u001b[43m)\u001b[49m\n\u001b[1;32m     11\u001b[0m \u001b[38;5;28mprint\u001b[39m(items[\u001b[38;5;124m\"\u001b[39m\u001b[38;5;124mname\u001b[39m\u001b[38;5;124m\"\u001b[39m])\n",
      "File \u001b[0;32m~/Documents/connector/connector/lib/python3.9/site-packages/requests/api.py:73\u001b[0m, in \u001b[0;36mget\u001b[0;34m(url, params, **kwargs)\u001b[0m\n\u001b[1;32m     62\u001b[0m \u001b[39mdef\u001b[39;00m \u001b[39mget\u001b[39m(url, params\u001b[39m=\u001b[39m\u001b[39mNone\u001b[39;00m, \u001b[39m*\u001b[39m\u001b[39m*\u001b[39mkwargs):\n\u001b[1;32m     63\u001b[0m     \u001b[39mr\u001b[39m\u001b[39m\"\"\"Sends a GET request.\u001b[39;00m\n\u001b[1;32m     64\u001b[0m \n\u001b[1;32m     65\u001b[0m \u001b[39m    :param url: URL for the new :class:`Request` object.\u001b[39;00m\n\u001b[0;32m   (...)\u001b[0m\n\u001b[1;32m     70\u001b[0m \u001b[39m    :rtype: requests.Response\u001b[39;00m\n\u001b[1;32m     71\u001b[0m \u001b[39m    \"\"\"\u001b[39;00m\n\u001b[0;32m---> 73\u001b[0m     \u001b[39mreturn\u001b[39;00m request(\u001b[39m\"\u001b[39;49m\u001b[39mget\u001b[39;49m\u001b[39m\"\u001b[39;49m, url, params\u001b[39m=\u001b[39;49mparams, \u001b[39m*\u001b[39;49m\u001b[39m*\u001b[39;49mkwargs)\n",
      "File \u001b[0;32m~/Documents/connector/connector/lib/python3.9/site-packages/requests/api.py:59\u001b[0m, in \u001b[0;36mrequest\u001b[0;34m(method, url, **kwargs)\u001b[0m\n\u001b[1;32m     55\u001b[0m \u001b[39m# By using the 'with' statement we are sure the session is closed, thus we\u001b[39;00m\n\u001b[1;32m     56\u001b[0m \u001b[39m# avoid leaving sockets open which can trigger a ResourceWarning in some\u001b[39;00m\n\u001b[1;32m     57\u001b[0m \u001b[39m# cases, and look like a memory leak in others.\u001b[39;00m\n\u001b[1;32m     58\u001b[0m \u001b[39mwith\u001b[39;00m sessions\u001b[39m.\u001b[39mSession() \u001b[39mas\u001b[39;00m session:\n\u001b[0;32m---> 59\u001b[0m     \u001b[39mreturn\u001b[39;00m session\u001b[39m.\u001b[39;49mrequest(method\u001b[39m=\u001b[39;49mmethod, url\u001b[39m=\u001b[39;49murl, \u001b[39m*\u001b[39;49m\u001b[39m*\u001b[39;49mkwargs)\n",
      "File \u001b[0;32m~/Documents/connector/connector/lib/python3.9/site-packages/requests/sessions.py:573\u001b[0m, in \u001b[0;36mSession.request\u001b[0;34m(self, method, url, params, data, headers, cookies, files, auth, timeout, allow_redirects, proxies, hooks, stream, verify, cert, json)\u001b[0m\n\u001b[1;32m    560\u001b[0m \u001b[39m# Create the Request.\u001b[39;00m\n\u001b[1;32m    561\u001b[0m req \u001b[39m=\u001b[39m Request(\n\u001b[1;32m    562\u001b[0m     method\u001b[39m=\u001b[39mmethod\u001b[39m.\u001b[39mupper(),\n\u001b[1;32m    563\u001b[0m     url\u001b[39m=\u001b[39murl,\n\u001b[0;32m   (...)\u001b[0m\n\u001b[1;32m    571\u001b[0m     hooks\u001b[39m=\u001b[39mhooks,\n\u001b[1;32m    572\u001b[0m )\n\u001b[0;32m--> 573\u001b[0m prep \u001b[39m=\u001b[39m \u001b[39mself\u001b[39;49m\u001b[39m.\u001b[39;49mprepare_request(req)\n\u001b[1;32m    575\u001b[0m proxies \u001b[39m=\u001b[39m proxies \u001b[39mor\u001b[39;00m {}\n\u001b[1;32m    577\u001b[0m settings \u001b[39m=\u001b[39m \u001b[39mself\u001b[39m\u001b[39m.\u001b[39mmerge_environment_settings(\n\u001b[1;32m    578\u001b[0m     prep\u001b[39m.\u001b[39murl, proxies, stream, verify, cert\n\u001b[1;32m    579\u001b[0m )\n",
      "File \u001b[0;32m~/Documents/connector/connector/lib/python3.9/site-packages/requests/sessions.py:484\u001b[0m, in \u001b[0;36mSession.prepare_request\u001b[0;34m(self, request)\u001b[0m\n\u001b[1;32m    481\u001b[0m     auth \u001b[39m=\u001b[39m get_netrc_auth(request\u001b[39m.\u001b[39murl)\n\u001b[1;32m    483\u001b[0m p \u001b[39m=\u001b[39m PreparedRequest()\n\u001b[0;32m--> 484\u001b[0m p\u001b[39m.\u001b[39;49mprepare(\n\u001b[1;32m    485\u001b[0m     method\u001b[39m=\u001b[39;49mrequest\u001b[39m.\u001b[39;49mmethod\u001b[39m.\u001b[39;49mupper(),\n\u001b[1;32m    486\u001b[0m     url\u001b[39m=\u001b[39;49mrequest\u001b[39m.\u001b[39;49murl,\n\u001b[1;32m    487\u001b[0m     files\u001b[39m=\u001b[39;49mrequest\u001b[39m.\u001b[39;49mfiles,\n\u001b[1;32m    488\u001b[0m     data\u001b[39m=\u001b[39;49mrequest\u001b[39m.\u001b[39;49mdata,\n\u001b[1;32m    489\u001b[0m     json\u001b[39m=\u001b[39;49mrequest\u001b[39m.\u001b[39;49mjson,\n\u001b[1;32m    490\u001b[0m     headers\u001b[39m=\u001b[39;49mmerge_setting(\n\u001b[1;32m    491\u001b[0m         request\u001b[39m.\u001b[39;49mheaders, \u001b[39mself\u001b[39;49m\u001b[39m.\u001b[39;49mheaders, dict_class\u001b[39m=\u001b[39;49mCaseInsensitiveDict\n\u001b[1;32m    492\u001b[0m     ),\n\u001b[1;32m    493\u001b[0m     params\u001b[39m=\u001b[39;49mmerge_setting(request\u001b[39m.\u001b[39;49mparams, \u001b[39mself\u001b[39;49m\u001b[39m.\u001b[39;49mparams),\n\u001b[1;32m    494\u001b[0m     auth\u001b[39m=\u001b[39;49mmerge_setting(auth, \u001b[39mself\u001b[39;49m\u001b[39m.\u001b[39;49mauth),\n\u001b[1;32m    495\u001b[0m     cookies\u001b[39m=\u001b[39;49mmerged_cookies,\n\u001b[1;32m    496\u001b[0m     hooks\u001b[39m=\u001b[39;49mmerge_hooks(request\u001b[39m.\u001b[39;49mhooks, \u001b[39mself\u001b[39;49m\u001b[39m.\u001b[39;49mhooks),\n\u001b[1;32m    497\u001b[0m )\n\u001b[1;32m    498\u001b[0m \u001b[39mreturn\u001b[39;00m p\n",
      "File \u001b[0;32m~/Documents/connector/connector/lib/python3.9/site-packages/requests/models.py:368\u001b[0m, in \u001b[0;36mPreparedRequest.prepare\u001b[0;34m(self, method, url, headers, files, data, params, auth, cookies, hooks, json)\u001b[0m\n\u001b[1;32m    365\u001b[0m \u001b[39m\"\"\"Prepares the entire request with the given parameters.\"\"\"\u001b[39;00m\n\u001b[1;32m    367\u001b[0m \u001b[39mself\u001b[39m\u001b[39m.\u001b[39mprepare_method(method)\n\u001b[0;32m--> 368\u001b[0m \u001b[39mself\u001b[39;49m\u001b[39m.\u001b[39;49mprepare_url(url, params)\n\u001b[1;32m    369\u001b[0m \u001b[39mself\u001b[39m\u001b[39m.\u001b[39mprepare_headers(headers)\n\u001b[1;32m    370\u001b[0m \u001b[39mself\u001b[39m\u001b[39m.\u001b[39mprepare_cookies(cookies)\n",
      "File \u001b[0;32m~/Documents/connector/connector/lib/python3.9/site-packages/requests/models.py:474\u001b[0m, in \u001b[0;36mPreparedRequest.prepare_url\u001b[0;34m(self, url, params)\u001b[0m\n\u001b[1;32m    471\u001b[0m \u001b[39mif\u001b[39;00m \u001b[39misinstance\u001b[39m(params, (\u001b[39mstr\u001b[39m, \u001b[39mbytes\u001b[39m)):\n\u001b[1;32m    472\u001b[0m     params \u001b[39m=\u001b[39m to_native_string(params)\n\u001b[0;32m--> 474\u001b[0m enc_params \u001b[39m=\u001b[39m \u001b[39mself\u001b[39;49m\u001b[39m.\u001b[39;49m_encode_params(params)\n\u001b[1;32m    475\u001b[0m \u001b[39mif\u001b[39;00m enc_params:\n\u001b[1;32m    476\u001b[0m     \u001b[39mif\u001b[39;00m query:\n",
      "File \u001b[0;32m~/Documents/connector/connector/lib/python3.9/site-packages/requests/models.py:121\u001b[0m, in \u001b[0;36mRequestEncodingMixin._encode_params\u001b[0;34m(data)\u001b[0m\n\u001b[1;32m    119\u001b[0m \u001b[39melif\u001b[39;00m \u001b[39mhasattr\u001b[39m(data, \u001b[39m\"\u001b[39m\u001b[39m__iter__\u001b[39m\u001b[39m\"\u001b[39m):\n\u001b[1;32m    120\u001b[0m     result \u001b[39m=\u001b[39m []\n\u001b[0;32m--> 121\u001b[0m     \u001b[39mfor\u001b[39;00m k, vs \u001b[39min\u001b[39;00m to_key_val_list(data):\n\u001b[1;32m    122\u001b[0m         \u001b[39mif\u001b[39;00m \u001b[39misinstance\u001b[39m(vs, basestring) \u001b[39mor\u001b[39;00m \u001b[39mnot\u001b[39;00m \u001b[39mhasattr\u001b[39m(vs, \u001b[39m\"\u001b[39m\u001b[39m__iter__\u001b[39m\u001b[39m\"\u001b[39m):\n\u001b[1;32m    123\u001b[0m             vs \u001b[39m=\u001b[39m [vs]\n",
      "\u001b[0;31mValueError\u001b[0m: too many values to unpack (expected 2)"
     ]
    }
   ],
   "source": []
  }
 ],
 "metadata": {
  "kernelspec": {
   "display_name": "Python 3.9.10 ('connector': venv)",
   "language": "python",
   "name": "python3"
  },
  "language_info": {
   "codemirror_mode": {
    "name": "ipython",
    "version": 3
   },
   "file_extension": ".py",
   "mimetype": "text/x-python",
   "name": "python",
   "nbconvert_exporter": "python",
   "pygments_lexer": "ipython3",
   "version": "3.9.10"
  },
  "orig_nbformat": 4,
  "vscode": {
   "interpreter": {
    "hash": "2ced8181f2b20f3f942764c98e919d279dfc8fae6fd269bb79ccb29ea2d36fd8"
   }
  }
 },
 "nbformat": 4,
 "nbformat_minor": 2
}
